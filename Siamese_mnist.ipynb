{
 "cells": [
  {
   "cell_type": "markdown",
   "metadata": {},
   "source": [
    "## Imports"
   ]
  },
  {
   "cell_type": "code",
   "execution_count": 1,
   "metadata": {},
   "outputs": [],
   "source": [
    "import os\n",
    "import random\n",
    "import time\n",
    "from collections import namedtuple\n",
    "from copy import deepcopy\n",
    "from os import listdir\n",
    "from os.path import isfile, join\n",
    "\n",
    "import matplotlib.pyplot as plt\n",
    "import numpy as np\n",
    "import pandas as pd\n",
    "from tqdm import tqdm_notebook as tqdm\n",
    "\n",
    "import torch\n",
    "import torch.nn.functional as F\n",
    "import torchvision\n",
    "from albumentations import (\n",
    "    CenterCrop,\n",
    "    Compose,\n",
    "    HorizontalFlip,\n",
    "    Normalize,\n",
    "    RandomCrop,\n",
    "    RandomResizedCrop,\n",
    "    Resize,\n",
    "    Rotate,\n",
    "    VerticalFlip,\n",
    ")\n",
    "from albumentations.pytorch import ToTensor\n",
    "from utils.ranger import Ranger\n",
    "from torch import nn, optim\n",
    "from torch.optim.lr_scheduler import CosineAnnealingWarmRestarts\n",
    "from torch.utils.data import DataLoader, Dataset\n",
    "from torchvision import models, transforms\n",
    "from torchvision.utils import make_grid"
   ]
  },
  {
   "cell_type": "code",
   "execution_count": 2,
   "metadata": {},
   "outputs": [],
   "source": [
    "from utils.nn_utils import (\n",
    "    AlbuSingleAttrDataset,\n",
    "    ContrastiveLossD,\n",
    "    ContrastiveLossLecun,\n",
    "    SiameseNetworkDataset,\n",
    "    get_image,\n",
    "    make_oneshot_task,\n",
    "    test_oneshot_cross_entropy,\n",
    "    test_oneshot_L2,\n",
    "    test_oneshot_prob_single_neuron,\n",
    ")\n",
    "from utils.siamese_net_archs import (\n",
    "    SiameseNet5LayersDoubleOut2,\n",
    "    SiameseNetSimpleDoubleOut,\n",
    "    SiameseNetworkCustom,\n",
    "    SiameseNetworkPretrainedBackbone,\n",
    "    SiameseNetworkPretrainedBackboneSigmoid2,\n",
    ")\n",
    "\n",
    "from utils.utils import error_plot, performance_metrics"
   ]
  },
  {
   "cell_type": "markdown",
   "metadata": {},
   "source": [
    "## Load jupyter extension"
   ]
  },
  {
   "cell_type": "code",
   "execution_count": 3,
   "metadata": {},
   "outputs": [],
   "source": [
    "# %load_ext pycodestyle_magic\n",
    "# %flake8_on --max_line_length 99\n",
    "# see http://stackoverflow.com/questions/1907993/autoreload-of-modules-in-ipython\n",
    "# %load_ext autoreload\n",
    "# %autoreload 2"
   ]
  },
  {
   "cell_type": "markdown",
   "metadata": {},
   "source": [
    "## Parameters"
   ]
  },
  {
   "cell_type": "code",
   "execution_count": 4,
   "metadata": {
    "tags": [
     "parameters"
    ]
   },
   "outputs": [],
   "source": [
    "batch_size = bs = 32\n",
    "im_size = 28\n",
    "im_crop = 28\n",
    "# path_to_nn_weights = \"data/Pretrained_weights/\"\n",
    "path_to_data = \"data/mnist_png/training/\"\n",
    "path_to_valid_data = \"data/mnist_png/testing/\"\n",
    "\n",
    "target_attr = \"label\"\n",
    "np.random.seed(5)"
   ]
  },
  {
   "cell_type": "markdown",
   "metadata": {},
   "source": [
    "## Load labels "
   ]
  },
  {
   "cell_type": "code",
   "execution_count": 5,
   "metadata": {},
   "outputs": [],
   "source": [
    "def create_labels_df_from_folders(path_to_data, target_attr=target_attr):\n",
    "    \"\"\"Scans the folder structure and creates a dataframe with image paths and labels.\n",
    "    Folder structure:\n",
    "    - path_to_data\n",
    "        - 0\n",
    "            - 1.png\n",
    "            ...\n",
    "            - 7.png\n",
    "        - 1\n",
    "            - 1001.png\n",
    "            - ...\n",
    "        - ...\n",
    "        - 9\n",
    "            - 1009.png\n",
    "            - ...\n",
    "        \n",
    "    Args:\n",
    "        path_to_data - path to folder with subfolders\n",
    "        target_attr - default labels name\n",
    "        \n",
    "    Returns:\n",
    "        pandas Dataframe, with path column and label column\n",
    "    \"\"\"\n",
    "    subfolders = [f for f in os.scandir(path_to_data) if f.is_dir()]\n",
    "    d = {}\n",
    "    for folder in subfolders:\n",
    "        for file in os.listdir(folder):\n",
    "            d[os.path.join(folder, file)] = folder.name\n",
    "    labels_df = pd.DataFrame.from_dict(data=d, orient=\"index\", columns=[target_attr])\n",
    "    labels_df[target_attr] = labels_df[target_attr].astype(int)\n",
    "    labels_df = labels_df.reset_index()\n",
    "    labels_df = labels_df.rename(columns={\"index\": \"path\"})\n",
    "    return labels_df"
   ]
  },
  {
   "cell_type": "code",
   "execution_count": 6,
   "metadata": {},
   "outputs": [
    {
     "data": {
      "text/html": [
       "<div>\n",
       "<style scoped>\n",
       "    .dataframe tbody tr th:only-of-type {\n",
       "        vertical-align: middle;\n",
       "    }\n",
       "\n",
       "    .dataframe tbody tr th {\n",
       "        vertical-align: top;\n",
       "    }\n",
       "\n",
       "    .dataframe thead th {\n",
       "        text-align: right;\n",
       "    }\n",
       "</style>\n",
       "<table border=\"1\" class=\"dataframe\">\n",
       "  <thead>\n",
       "    <tr style=\"text-align: right;\">\n",
       "      <th></th>\n",
       "      <th>path</th>\n",
       "      <th>label</th>\n",
       "    </tr>\n",
       "  </thead>\n",
       "  <tbody>\n",
       "    <tr>\n",
       "      <td>0</td>\n",
       "      <td>../../mnist_png/training/0\\1.png</td>\n",
       "      <td>0</td>\n",
       "    </tr>\n",
       "    <tr>\n",
       "      <td>1</td>\n",
       "      <td>../../mnist_png/training/0\\1000.png</td>\n",
       "      <td>0</td>\n",
       "    </tr>\n",
       "    <tr>\n",
       "      <td>2</td>\n",
       "      <td>../../mnist_png/training/0\\10005.png</td>\n",
       "      <td>0</td>\n",
       "    </tr>\n",
       "    <tr>\n",
       "      <td>3</td>\n",
       "      <td>../../mnist_png/training/0\\10010.png</td>\n",
       "      <td>0</td>\n",
       "    </tr>\n",
       "    <tr>\n",
       "      <td>4</td>\n",
       "      <td>../../mnist_png/training/0\\10022.png</td>\n",
       "      <td>0</td>\n",
       "    </tr>\n",
       "  </tbody>\n",
       "</table>\n",
       "</div>"
      ],
      "text/plain": [
       "                                   path  label\n",
       "0      ../../mnist_png/training/0\\1.png      0\n",
       "1   ../../mnist_png/training/0\\1000.png      0\n",
       "2  ../../mnist_png/training/0\\10005.png      0\n",
       "3  ../../mnist_png/training/0\\10010.png      0\n",
       "4  ../../mnist_png/training/0\\10022.png      0"
      ]
     },
     "execution_count": 6,
     "metadata": {},
     "output_type": "execute_result"
    }
   ],
   "source": [
    "labels_df = create_labels_df_from_folders(path_to_data)\n",
    "labels_df.head()"
   ]
  },
  {
   "cell_type": "code",
   "execution_count": 7,
   "metadata": {},
   "outputs": [
    {
     "data": {
      "text/html": [
       "<div>\n",
       "<style scoped>\n",
       "    .dataframe tbody tr th:only-of-type {\n",
       "        vertical-align: middle;\n",
       "    }\n",
       "\n",
       "    .dataframe tbody tr th {\n",
       "        vertical-align: top;\n",
       "    }\n",
       "\n",
       "    .dataframe thead th {\n",
       "        text-align: right;\n",
       "    }\n",
       "</style>\n",
       "<table border=\"1\" class=\"dataframe\">\n",
       "  <thead>\n",
       "    <tr style=\"text-align: right;\">\n",
       "      <th></th>\n",
       "      <th>path</th>\n",
       "      <th>label</th>\n",
       "    </tr>\n",
       "  </thead>\n",
       "  <tbody>\n",
       "    <tr>\n",
       "      <td>0</td>\n",
       "      <td>../../mnist_png/testing/0\\10.png</td>\n",
       "      <td>0</td>\n",
       "    </tr>\n",
       "    <tr>\n",
       "      <td>1</td>\n",
       "      <td>../../mnist_png/testing/0\\1001.png</td>\n",
       "      <td>0</td>\n",
       "    </tr>\n",
       "    <tr>\n",
       "      <td>2</td>\n",
       "      <td>../../mnist_png/testing/0\\1009.png</td>\n",
       "      <td>0</td>\n",
       "    </tr>\n",
       "    <tr>\n",
       "      <td>3</td>\n",
       "      <td>../../mnist_png/testing/0\\101.png</td>\n",
       "      <td>0</td>\n",
       "    </tr>\n",
       "    <tr>\n",
       "      <td>4</td>\n",
       "      <td>../../mnist_png/testing/0\\1034.png</td>\n",
       "      <td>0</td>\n",
       "    </tr>\n",
       "  </tbody>\n",
       "</table>\n",
       "</div>"
      ],
      "text/plain": [
       "                                 path  label\n",
       "0    ../../mnist_png/testing/0\\10.png      0\n",
       "1  ../../mnist_png/testing/0\\1001.png      0\n",
       "2  ../../mnist_png/testing/0\\1009.png      0\n",
       "3   ../../mnist_png/testing/0\\101.png      0\n",
       "4  ../../mnist_png/testing/0\\1034.png      0"
      ]
     },
     "execution_count": 7,
     "metadata": {},
     "output_type": "execute_result"
    }
   ],
   "source": [
    "labels_valid_df = create_labels_df_from_folders(path_to_valid_data)\n",
    "labels_valid_df.head()"
   ]
  },
  {
   "cell_type": "markdown",
   "metadata": {},
   "source": [
    "###  img_name(path) : label"
   ]
  },
  {
   "cell_type": "code",
   "execution_count": 8,
   "metadata": {},
   "outputs": [],
   "source": [
    "name_to_attr = {\n",
    "    x[0]: target_attr + \" = \" + str(x[1])\n",
    "    for x in labels_df[[\"path\", target_attr]].values\n",
    "}\n",
    "encoder = name_to_attr"
   ]
  },
  {
   "cell_type": "code",
   "execution_count": 9,
   "metadata": {},
   "outputs": [
    {
     "data": {
      "text/plain": [
       "[('../../mnist_png/testing/0\\\\10.png', 'label = 0'),\n",
       " ('../../mnist_png/testing/0\\\\1001.png', 'label = 0'),\n",
       " ('../../mnist_png/testing/0\\\\1009.png', 'label = 0')]"
      ]
     },
     "execution_count": 9,
     "metadata": {},
     "output_type": "execute_result"
    }
   ],
   "source": [
    "valid_name_to_attr = {\n",
    "    x[0]: target_attr + \" = \" + str(x[1])\n",
    "    for x in labels_valid_df[[\"path\", target_attr]].values\n",
    "}\n",
    "valid_encoder = valid_name_to_attr\n",
    "list(valid_encoder.items())[:3]"
   ]
  },
  {
   "cell_type": "markdown",
   "metadata": {},
   "source": [
    "## Prepare Data"
   ]
  },
  {
   "cell_type": "markdown",
   "metadata": {},
   "source": [
    "### Calculate mean and std of all dataset"
   ]
  },
  {
   "cell_type": "code",
   "execution_count": 10,
   "metadata": {},
   "outputs": [],
   "source": [
    "def normalization_parameter(dataloader):\n",
    "    mean = 0.0\n",
    "    std = 0.0\n",
    "    nb_samples = len(dataloader.dataset)\n",
    "    for data, *_ in tqdm(dataloader):\n",
    "        batch_samples = data.size(0)\n",
    "        data = data.view(batch_samples, data.size(1), -1)\n",
    "        mean += data.mean(2).sum(0)\n",
    "        std += data.std(2).sum(0)\n",
    "    mean /= nb_samples\n",
    "    std /= nb_samples\n",
    "    return mean.numpy(), std.numpy()"
   ]
  },
  {
   "cell_type": "markdown",
   "metadata": {},
   "source": [
    "### calculate mean and std of all our data"
   ]
  },
  {
   "cell_type": "code",
   "execution_count": 11,
   "metadata": {},
   "outputs": [
    {
     "data": {
      "application/vnd.jupyter.widget-view+json": {
       "model_id": "ebf02a24ae0f4fcb9da97679a2f310cc",
       "version_major": 2,
       "version_minor": 0
      },
      "text/plain": [
       "HBox(children=(IntProgress(value=0, max=1875), HTML(value='')))"
      ]
     },
     "metadata": {},
     "output_type": "display_data"
    },
    {
     "name": "stdout",
     "output_type": "stream",
     "text": [
      "\n",
      "[0.13066049 0.13066049 0.13066049] [0.30150446 0.30150446 0.30150446]\n",
      "Wall time: 1min 59s\n"
     ]
    }
   ],
   "source": [
    "%%time\n",
    "train_transforms_base = Compose([Resize(im_size, im_size), ToTensor()])\n",
    "\n",
    "all_data = SiameseNetworkDataset(\n",
    "    label_df=labels_df,\n",
    "    target_attr=target_attr,\n",
    "    indexes=labels_df.index.values,\n",
    "    transform=train_transforms_base,\n",
    ")\n",
    "\n",
    "all_loader = DataLoader(all_data, batch_size=bs, shuffle=True)\n",
    "mean, std = normalization_parameter(all_loader)\n",
    "print(mean, std)"
   ]
  },
  {
   "cell_type": "code",
   "execution_count": 12,
   "metadata": {},
   "outputs": [],
   "source": [
    "# mnist train stats\n",
    "# mean = np.array([0.13057142, 0.13057142, 0.13057142])\n",
    "# std = np.array([0.28164333, 0.28164333, 0.28164333])"
   ]
  },
  {
   "cell_type": "code",
   "execution_count": 13,
   "metadata": {},
   "outputs": [],
   "source": [
    "# image net stats\n",
    "# mean=np.array([0.485, 0.456, 0.406])\n",
    "# std=np.array([0.229, 0.224, 0.225])"
   ]
  },
  {
   "cell_type": "markdown",
   "metadata": {},
   "source": [
    "### Check normalization"
   ]
  },
  {
   "cell_type": "code",
   "execution_count": 14,
   "metadata": {},
   "outputs": [
    {
     "data": {
      "application/vnd.jupyter.widget-view+json": {
       "model_id": "c3d1ffe2ccdf4cf9ad5d6fa0dbab850f",
       "version_major": 2,
       "version_minor": 0
      },
      "text/plain": [
       "HBox(children=(IntProgress(value=0, max=1875), HTML(value='')))"
      ]
     },
     "metadata": {},
     "output_type": "display_data"
    },
    {
     "name": "stdout",
     "output_type": "stream",
     "text": [
      "\n"
     ]
    }
   ],
   "source": [
    "train_transforms_check = Compose(\n",
    "    [Resize(im_size, im_size), Normalize(mean, std), ToTensor()]\n",
    ")\n",
    "\n",
    "all_data = SiameseNetworkDataset(\n",
    "    label_df=labels_df,\n",
    "    target_attr=target_attr,\n",
    "    indexes=labels_df.index.values,\n",
    "    transform=train_transforms_check,\n",
    ")\n",
    "\n",
    "all_loader = DataLoader(all_data, batch_size=bs, shuffle=True)\n",
    "new_mean, new_std = normalization_parameter(all_loader)\n",
    "is_normalize = (\n",
    "    np.isclose(new_mean, 0, atol=0.01).all() & np.isclose(new_std, 1, atol=0.01).all()\n",
    ")\n",
    "assert is_normalize, \"mean ~ 0, std ~ 1\""
   ]
  },
  {
   "cell_type": "markdown",
   "metadata": {},
   "source": [
    "### By default there is a minimum set of transformations"
   ]
  },
  {
   "cell_type": "code",
   "execution_count": 15,
   "metadata": {},
   "outputs": [],
   "source": [
    "image_transforms = {\n",
    "    \"train\": Compose([Resize(im_crop, im_crop), Normalize(mean, std), ToTensor()]),\n",
    "    \"valid\": Compose([Resize(im_crop, im_crop), Normalize(mean, std), ToTensor()]),\n",
    "}"
   ]
  },
  {
   "cell_type": "code",
   "execution_count": 16,
   "metadata": {},
   "outputs": [],
   "source": [
    "# inverse normalization for image plot\n",
    "\n",
    "inv_normalize = Normalize(\n",
    "    mean=-1 * np.divide(mean, std),\n",
    "    std=1 / std,\n",
    "    max_pixel_value=1,  # in pytorch tensor values between 0-1\n",
    ")"
   ]
  },
  {
   "cell_type": "markdown",
   "metadata": {},
   "source": [
    "## create pytorch datasets and dataloaders"
   ]
  },
  {
   "cell_type": "markdown",
   "metadata": {},
   "source": [
    "For training a Siamese network, you need to inside one of the batch was balanced to the number of examples of the same class and different classes.\n",
    "The SiameseNetworkDataset class implements this logic"
   ]
  },
  {
   "cell_type": "code",
   "execution_count": 17,
   "metadata": {},
   "outputs": [],
   "source": [
    "data = {\n",
    "    \"train\": SiameseNetworkDataset(\n",
    "        label_df=labels_df,\n",
    "        target_attr=target_attr,\n",
    "        indexes=labels_df.index.values,\n",
    "        transform=image_transforms[\"train\"],\n",
    "    ),\n",
    "    \"valid\": SiameseNetworkDataset(\n",
    "        label_df=labels_valid_df,\n",
    "        target_attr=target_attr,\n",
    "        indexes=labels_valid_df.index.values,\n",
    "        transform=image_transforms[\"valid\"],\n",
    "    ),\n",
    "}\n",
    "# Size of Data, to be used for calculating Average Loss and Accuracy\n",
    "train_data_size = len(data[\"train\"])\n",
    "valid_data_size = len(data[\"valid\"])\n",
    "\n",
    "# Create iterators for the Data loaded using DataLoader module\n",
    "train_data = DataLoader(data[\"train\"], batch_size=bs, shuffle=True)\n",
    "valid_data = DataLoader(data[\"valid\"], batch_size=bs, shuffle=True)"
   ]
  },
  {
   "cell_type": "markdown",
   "metadata": {},
   "source": [
    "## Plot subsamples"
   ]
  },
  {
   "cell_type": "code",
   "execution_count": 18,
   "metadata": {},
   "outputs": [],
   "source": [
    "def class_plot(data, encoder, inv_normalize=None, n_figures=12):\n",
    "    \"\"\"\n",
    "    Visualize some pairs from siamese dataset\n",
    "    \n",
    "    Args:\n",
    "      data: pytorch dataset, dataset output format:img_0,img_1,label,name0,name1\n",
    "          img_0,img_1 - numpy arrays\n",
    "          label - number, 1 - images has same class, 0 - differ\n",
    "          name0, name1 - str\n",
    "      encoder : dict, {name : original class of image}\n",
    "      inv_normalize: albumentation transforms\n",
    "      n_figures : number of plots\n",
    "      \n",
    "    Returns:\n",
    "      plots with titles\n",
    "    \"\"\"\n",
    "    n_row = int(n_figures / 4)\n",
    "    fig, axes = plt.subplots(figsize=(28, 10), nrows=n_row, ncols=4)\n",
    "    for ax in axes.flatten():\n",
    "        rand_idx = random.randint(0, len(data) - 1)\n",
    "        (img_0, img_1, label, name0, name1) = data[rand_idx]\n",
    "        # image is torch tensor\n",
    "        # swap color axis because\n",
    "        # numpy image: H x W x C\n",
    "        # torch image: C X H X W\n",
    "        img_0 = img_0.numpy().transpose(1, 2, 0)\n",
    "        img_1 = img_1.numpy().transpose(1, 2, 0)\n",
    "\n",
    "        if inv_normalize is not None:\n",
    "            img_0 = inv_normalize(image=img_0)[\"image\"]\n",
    "            img_1 = inv_normalize(image=img_1)[\"image\"]\n",
    "        image = np.hstack([img_0, img_1]).clip(0, 1)\n",
    "        label = int(label)\n",
    "        if label:\n",
    "            string_label = \"SAME (1): \"\n",
    "        else:\n",
    "            string_label = \"DIFFER(0): \"  # encoder[label]\n",
    "        string_label += encoder[name0] + \" | \" + encoder[name1]\n",
    "        ax.imshow(image)\n",
    "        ax.set_title(string_label)\n",
    "        ax.axis(\"off\")\n",
    "    plt.show()"
   ]
  },
  {
   "cell_type": "code",
   "execution_count": 19,
   "metadata": {},
   "outputs": [
    {
     "data": {
      "image/png": "[encoded data removed]",
      "text/plain": [
       "<Figure size 2016x720 with 12 Axes>"
      ]
     },
     "metadata": {
      "needs_background": "light"
     },
     "output_type": "display_data"
    }
   ],
   "source": [
    "class_plot(data[\"train\"], encoder=encoder, inv_normalize=inv_normalize)"
   ]
  },
  {
   "cell_type": "code",
   "execution_count": 20,
   "metadata": {},
   "outputs": [
    {
     "data": {
      "image/png": "[encoded data removed]",
      "text/plain": [
       "<Figure size 2016x720 with 12 Axes>"
      ]
     },
     "metadata": {
      "needs_background": "light"
     },
     "output_type": "display_data"
    }
   ],
   "source": [
    "class_plot(data[\"valid\"], encoder=valid_encoder, inv_normalize=inv_normalize)"
   ]
  },
  {
   "cell_type": "markdown",
   "metadata": {},
   "source": [
    "## define network"
   ]
  },
  {
   "cell_type": "code",
   "execution_count": 21,
   "metadata": {},
   "outputs": [
    {
     "name": "stdout",
     "output_type": "stream",
     "text": [
      "unique labels in label attribute: [0 1 2 3 4 5 6 7 8 9]\n",
      "num classes in attr: 10\n"
     ]
    }
   ],
   "source": [
    "print(\n",
    "    \"unique labels in {} attribute:\".format(target_attr),\n",
    "    labels_df[target_attr].unique(),\n",
    ")\n",
    "num_classes = len(labels_df[target_attr].unique())\n",
    "print(\"num classes in attr:\", num_classes)"
   ]
  },
  {
   "cell_type": "code",
   "execution_count": 22,
   "metadata": {},
   "outputs": [],
   "source": [
    "assert labels_df[target_attr].unique().min() == 0"
   ]
  },
  {
   "cell_type": "markdown",
   "metadata": {},
   "source": [
    "### One shot test - Siamese network\n",
    "Note that, for every pair of input images, our model generates a similarity score. But just looking at the score its difficult to ascertain whether the model is really able to recognize similar characters and distinguish dissimilar ones.\n",
    "\n",
    "A nice way to judge the model is N-way one shot learning.  4-shot-learning\n",
    "Basically the image is compared to 4 different images out of which only one of them matches the original image. Let’s say by doing the above 4 comparisons we get 4 similarity scores S1, S2, S3 and S4 as shown. Now if the model is trained properly, we expect that S1 is the maximum of all the 4 similarity scores because the first pair of images is the only one where we have two same characters.\n",
    "\n",
    "- [img_class_X ,img_class_X] - S1\n",
    "- [img_class_X ,img_class_Y] - S2\n",
    "- [img_class_X ,img_class_Z] - S3\n",
    "- [img_class_X ,img_class_Y] - S4  \n",
    "\n",
    "Thus if S1 happens to be the maximum score, we treat this as a correct prediction otherwise we consider this as an incorrect prediction. Repeating this procedure ‘k’ times, we can calculate the percentage of correct predictions.  \n",
    "\n",
    "more : https://towardsdatascience.com/one-shot-learning-with-siamese-networks-using-keras-17f34e75bb3d  "
   ]
  },
  {
   "cell_type": "code",
   "execution_count": 23,
   "metadata": {},
   "outputs": [],
   "source": [
    "def img_tensor_plot(image, inv_normalize=None):\n",
    "    image = image.cpu().numpy().squeeze()\n",
    "    image = image.transpose(1, 2, 0)\n",
    "    if inv_normalize is not None:\n",
    "        augmented = inv_normalize(image=image)\n",
    "        image = augmented[\"image\"]\n",
    "    image = image.clip(0, 1)\n",
    "    plt.imshow(image)\n",
    "    plt.show()"
   ]
  },
  {
   "cell_type": "code",
   "execution_count": 24,
   "metadata": {
    "scrolled": false
   },
   "outputs": [
    {
     "name": "stdout",
     "output_type": "stream",
     "text": [
      "tensor([0., 0., 1., 0.])\n"
     ]
    },
    {
     "data": {
      "image/png": "[encoded data removed]",
      "text/plain": [
       "<Figure size 432x288 with 1 Axes>"
      ]
     },
     "metadata": {
      "needs_background": "light"
     },
     "output_type": "display_data"
    },
    {
     "data": {
      "image/png": "[encoded data removed]",
      "text/plain": [
       "<Figure size 432x288 with 1 Axes>"
      ]
     },
     "metadata": {
      "needs_background": "light"
     },
     "output_type": "display_data"
    },
    {
     "data": {
      "image/png": "[encoded data removed]",
      "text/plain": [
       "<Figure size 432x288 with 1 Axes>"
      ]
     },
     "metadata": {
      "needs_background": "light"
     },
     "output_type": "display_data"
    },
    {
     "data": {
      "image/png": "[encoded data removed]",
      "text/plain": [
       "<Figure size 432x288 with 1 Axes>"
      ]
     },
     "metadata": {
      "needs_background": "light"
     },
     "output_type": "display_data"
    }
   ],
   "source": [
    "img0a, img1a, targets_a = make_oneshot_task(4, valid_data)\n",
    "concatenated = torch.cat((img0a, img1a), 3)\n",
    "print(targets_a)\n",
    "for i in range(concatenated.size(0)):\n",
    "    im = concatenated[i].squeeze()\n",
    "    img_tensor_plot(im, inv_normalize=inv_normalize)"
   ]
  },
  {
   "cell_type": "markdown",
   "metadata": {},
   "source": [
    "## Train"
   ]
  },
  {
   "cell_type": "code",
   "execution_count": 25,
   "metadata": {},
   "outputs": [
    {
     "name": "stdout",
     "output_type": "stream",
     "text": [
      "conv1 is frozen\n",
      "bn1 is frozen\n",
      "relu is frozen\n",
      "maxpool is frozen\n",
      "layer1 is frozen\n",
      "layer2 is frozen\n",
      "layer3 is unfrozen\n",
      "layer4 is unfrozen\n",
      "avgpool is unfrozen\n",
      "fc is unfrozen\n"
     ]
    }
   ],
   "source": [
    "resnet = torchvision.models.resnet50(pretrained=True)\n",
    "# state = torch.load(path_to_nn_weights + \"resnet50-19c8e357.pth\")\n",
    "# resnet.load_state_dict(state)\n",
    "\n",
    "# for name, child in resnet.named_children():\n",
    "#     print(name)\n",
    "\n",
    "for name, child in resnet.named_children():\n",
    "    if name in [\"fc\", \"avgpool\", \"layer4\", \"layer3\"]:\n",
    "        print(name + \" is unfrozen\")\n",
    "        for param in child.parameters():\n",
    "            param.requires_grad = True\n",
    "    else:\n",
    "        print(name + \" is frozen\")\n",
    "        for param in child.parameters():\n",
    "            param.requires_grad = False"
   ]
  },
  {
   "cell_type": "markdown",
   "metadata": {},
   "source": [
    "## Consider several approaches to Siamese nets\n",
    "### Different architectures require the use of different loss functions, and precision counting methods"
   ]
  },
  {
   "cell_type": "markdown",
   "metadata": {},
   "source": [
    "### Variant 1 \n",
    "The neural network at the forward pass receives 2 images, the output gives them embeds (2 vectors)  \n",
    "The loss should take 2 vectors, and calculate the similarity function for them, for example, you can use Euclidean distance (L2), if the images are from the same class, the distance should be as small as possible, the smaller the distance the smaller the loss.\n",
    "\n",
    "model = SiameseNet5LayersDoubleOut2() or  \n",
    "model = SiameseNetSimpleDoubleOut()  \n",
    "loss_func = ContrastiveLossD()  \n",
    "out_mode = \"L2\"  "
   ]
  },
  {
   "cell_type": "markdown",
   "metadata": {},
   "source": [
    "### Variant 2\n",
    "The neural network at the forward pass receives 2 images, output receives the probability that the images are from same class. This is possible if for example nn has 1 output neuron with sigmoid activation function.\n",
    "The best variant of the loss function in this case is binary cross entropy.\n",
    "\n",
    "model3 = SiameseNetworkPretrainedBackbone(deepcopy(resnet), out_act=\"sigmoid\", out_neurons=1)  \n",
    "loss_func = nn.BCELoss()  \n",
    "out_mode = \"prob_single_neuron\"    "
   ]
  },
  {
   "cell_type": "markdown",
   "metadata": {},
   "source": [
    "### Variant 3 \n",
    "The neural network at the forward pass receives 2 images, output receives raw logits, number of neurons - number of possible labels, in our case - two output neuron (1 - images are from same class, 0 - for opposite).\n",
    "We can use crossEntropyLoss in this case\n",
    "\n",
    "model = SiameseNetworkPretrainedBackbone(deepcopy(resnet), out_act=\"no_act\", out_neurons=2)  \n",
    "loss_func = nn.CrossEntropyLoss()  \n",
    "out_mode = \"cross_entropy\"  "
   ]
  },
  {
   "cell_type": "markdown",
   "metadata": {},
   "source": [
    "## Define net. Choose variant №1"
   ]
  },
  {
   "cell_type": "code",
   "execution_count": 26,
   "metadata": {},
   "outputs": [],
   "source": [
    "class SiameseNet5LayersDoubleOut2(nn.Module):\n",
    "    \"\"\"This is a simple network for mnist images recognition,\n",
    "    outputs 2 embedding vectors\n",
    "    based on:\n",
    "    https://becominghuman.ai/siamese-networks-algorithm-applications-and-pytorch-implementation-4ffa3304c18\n",
    "    \"\"\"\n",
    "    def __init__(self):\n",
    "        super().__init__()\n",
    "        self.conv1 = nn.Conv2d(3, 64, 7)\n",
    "        self.pool1 = nn.MaxPool2d(2)\n",
    "        self.conv2 = nn.Conv2d(64, 128, 5)\n",
    "        self.conv3 = nn.Conv2d(128, 256, 5)\n",
    "        self.linear1 = nn.Linear(2304, 2)\n",
    "\n",
    "    def forward_once(self, x):\n",
    "        # Forward pass\n",
    "        output = self.conv1(x)\n",
    "        output = F.relu(output)\n",
    "        output = self.pool1(output)\n",
    "        output = self.conv2(output)\n",
    "        output = F.relu(output)\n",
    "        output = self.conv3(output)\n",
    "        output = F.relu(output)\n",
    "        output = output.view(output.shape[0], -1)\n",
    "        output = self.linear1(output)\n",
    "        return output\n",
    "\n",
    "    def forward(self, input1, input2):\n",
    "        # forward pass of input 1\n",
    "        output1 = self.forward_once(input1)\n",
    "        # forward pass of input 2\n",
    "        output2 = self.forward_once(input2)\n",
    "        return output1, output2"
   ]
  },
  {
   "cell_type": "code",
   "execution_count": 27,
   "metadata": {},
   "outputs": [],
   "source": [
    "model = SiameseNet5LayersDoubleOut2()\n",
    "loss_func = ContrastiveLossD()\n",
    "out_mode = \"L2\"\n",
    "test_oneshot_func = test_oneshot_L2"
   ]
  },
  {
   "cell_type": "code",
   "execution_count": 28,
   "metadata": {},
   "outputs": [],
   "source": [
    "torch.cuda.empty_cache()"
   ]
  },
  {
   "cell_type": "markdown",
   "metadata": {},
   "source": [
    "### Ranger optimizer"
   ]
  },
  {
   "cell_type": "code",
   "execution_count": 29,
   "metadata": {},
   "outputs": [
    {
     "name": "stdout",
     "output_type": "stream",
     "text": [
      "device: cuda\n"
     ]
    }
   ],
   "source": [
    "device = torch.device(\"cuda\" if torch.cuda.is_available() else \"cpu\")\n",
    "print(\"device:\", device)\n",
    "model = model.to(device)\n",
    "# optimizer = optim.Adam(model.parameters(), lr=0.00005)\n",
    "optimizer = Ranger(model.parameters())\n",
    "# Ranger is new optimizer combined Radam and Lookahead techniques\n",
    "# https://github.com/lessw2020/Ranger-Deep-Learning-Optimizer\n",
    "scheduler = CosineAnnealingWarmRestarts(optimizer, 5)"
   ]
  },
  {
   "cell_type": "markdown",
   "metadata": {},
   "source": [
    "### parameters"
   ]
  },
  {
   "cell_type": "code",
   "execution_count": 30,
   "metadata": {},
   "outputs": [],
   "source": [
    "def get_lr(optimizer):\n",
    "    for param_group in optimizer.param_groups:\n",
    "        return param_group[\"lr\"]\n",
    "\n",
    "\n",
    "def eval_f(model):\n",
    "    with torch.no_grad():\n",
    "        model.eval()\n",
    "        avg_acc = test_oneshot_func(\n",
    "            model, N_way, n_val, valid_data, device, verbose=True\n",
    "        )\n",
    "        return avg_acc"
   ]
  },
  {
   "cell_type": "code",
   "execution_count": 31,
   "metadata": {},
   "outputs": [],
   "source": [
    "counter = []\n",
    "history = []"
   ]
  },
  {
   "cell_type": "code",
   "execution_count": 32,
   "metadata": {},
   "outputs": [],
   "source": [
    "EPOCHS = 10\n",
    "N_way = 50  # how many classes for testing one-shot tasks\n",
    "n_val = 250  # how many one-shot tasks to validate on"
   ]
  },
  {
   "cell_type": "markdown",
   "metadata": {},
   "source": [
    "## Train"
   ]
  },
  {
   "cell_type": "code",
   "execution_count": 33,
   "metadata": {},
   "outputs": [
    {
     "data": {
      "application/vnd.jupyter.widget-view+json": {
       "model_id": "35c81069fe62459b8e364cffa702daf3",
       "version_major": 2,
       "version_minor": 0
      },
      "text/plain": [
       "HBox(children=(IntProgress(value=0, max=10), HTML(value='')))"
      ]
     },
     "metadata": {},
     "output_type": "display_data"
    },
    {
     "name": "stdout",
     "output_type": "stream",
     "text": [
      "Epoch: 1/10\n"
     ]
    },
    {
     "data": {
      "application/vnd.jupyter.widget-view+json": {
       "model_id": "ec8a458fbe814715bf80116f37eb3052",
       "version_major": 2,
       "version_minor": 0
      },
      "text/plain": [
       "HBox(children=(IntProgress(value=1, bar_style='info', max=1), HTML(value='')))"
      ]
     },
     "metadata": {},
     "output_type": "display_data"
    },
    {
     "name": "stdout",
     "output_type": "stream",
     "text": [
      "Evaluating model on 250 random 50 way one-shot learning tasks ... \n",
      "\n",
      "Got an average of 4.8% 50 way one-shot learning accuracy \n",
      "\n",
      "Evaluating model on 250 random 50 way one-shot learning tasks ... \n",
      "\n",
      "Got an average of 61.2% 50 way one-shot learning accuracy \n",
      "\n",
      "Evaluating model on 250 random 50 way one-shot learning tasks ... \n",
      "\n",
      "Got an average of 66.0% 50 way one-shot learning accuracy \n",
      "\n",
      "Evaluating model on 250 random 50 way one-shot learning tasks ... \n",
      "\n",
      "Got an average of 84.8% 50 way one-shot learning accuracy \n",
      "\n",
      "Evaluating model on 250 random 50 way one-shot learning tasks ... \n",
      "\n",
      "Got an average of 87.6% 50 way one-shot learning accuracy \n",
      "\n",
      "\n",
      "Evaluating model on 250 random 50 way one-shot learning tasks ... \n",
      "\n",
      "Got an average of 90.4% 50 way one-shot learning accuracy \n",
      "\n",
      "Epoch : 000,\n",
      "Training  : Loss: 0.0410\n",
      "Validation: Loss: 0.0242, Accuracy: 90.4%:,\n",
      "\t Time: 153.5625s\n",
      "Epoch: 2/10\n"
     ]
    },
    {
     "data": {
      "application/vnd.jupyter.widget-view+json": {
       "model_id": "6b39d69769a542b0913991e5679df5d7",
       "version_major": 2,
       "version_minor": 0
      },
      "text/plain": [
       "HBox(children=(IntProgress(value=1, bar_style='info', max=1), HTML(value='')))"
      ]
     },
     "metadata": {},
     "output_type": "display_data"
    },
    {
     "name": "stdout",
     "output_type": "stream",
     "text": [
      "Evaluating model on 250 random 50 way one-shot learning tasks ... \n",
      "\n",
      "Got an average of 88.4% 50 way one-shot learning accuracy \n",
      "\n",
      "Evaluating model on 250 random 50 way one-shot learning tasks ... \n",
      "\n",
      "Got an average of 89.6% 50 way one-shot learning accuracy \n",
      "\n",
      "Evaluating model on 250 random 50 way one-shot learning tasks ... \n",
      "\n",
      "Got an average of 93.6% 50 way one-shot learning accuracy \n",
      "\n",
      "Evaluating model on 250 random 50 way one-shot learning tasks ... \n",
      "\n",
      "Got an average of 92.4% 50 way one-shot learning accuracy \n",
      "\n",
      "Evaluating model on 250 random 50 way one-shot learning tasks ... \n",
      "\n",
      "Got an average of 96.8% 50 way one-shot learning accuracy \n",
      "\n",
      "\n",
      "Evaluating model on 250 random 50 way one-shot learning tasks ... \n",
      "\n",
      "Got an average of 96.8% 50 way one-shot learning accuracy \n",
      "\n",
      "Epoch : 001,\n",
      "Training  : Loss: 0.0195\n",
      "Validation: Loss: 0.0160, Accuracy: 96.8%:,\n",
      "\t Time: 146.0578s\n",
      "Epoch: 3/10\n"
     ]
    },
    {
     "data": {
      "application/vnd.jupyter.widget-view+json": {
       "model_id": "f4f3b8fd1a62477e868e32d29e995fa8",
       "version_major": 2,
       "version_minor": 0
      },
      "text/plain": [
       "HBox(children=(IntProgress(value=1, bar_style='info', max=1), HTML(value='')))"
      ]
     },
     "metadata": {},
     "output_type": "display_data"
    },
    {
     "name": "stdout",
     "output_type": "stream",
     "text": [
      "Evaluating model on 250 random 50 way one-shot learning tasks ... \n",
      "\n",
      "Got an average of 96.4% 50 way one-shot learning accuracy \n",
      "\n",
      "Evaluating model on 250 random 50 way one-shot learning tasks ... \n",
      "\n",
      "Got an average of 97.2% 50 way one-shot learning accuracy \n",
      "\n",
      "Evaluating model on 250 random 50 way one-shot learning tasks ... \n",
      "\n",
      "Got an average of 97.2% 50 way one-shot learning accuracy \n",
      "\n",
      "Evaluating model on 250 random 50 way one-shot learning tasks ... \n",
      "\n",
      "Got an average of 93.6% 50 way one-shot learning accuracy \n",
      "\n",
      "Evaluating model on 250 random 50 way one-shot learning tasks ... \n",
      "\n",
      "Got an average of 96.4% 50 way one-shot learning accuracy \n",
      "\n",
      "\n",
      "Evaluating model on 250 random 50 way one-shot learning tasks ... \n",
      "\n",
      "Got an average of 97.2% 50 way one-shot learning accuracy \n",
      "\n",
      "Epoch : 002,\n",
      "Training  : Loss: 0.0123\n",
      "Validation: Loss: 0.0136, Accuracy: 97.2%:,\n",
      "\t Time: 145.8861s\n",
      "Epoch: 4/10\n"
     ]
    },
    {
     "data": {
      "application/vnd.jupyter.widget-view+json": {
       "model_id": "87c9c944a05240ffb216021d3a0d0d39",
       "version_major": 2,
       "version_minor": 0
      },
      "text/plain": [
       "HBox(children=(IntProgress(value=1, bar_style='info', max=1), HTML(value='')))"
      ]
     },
     "metadata": {},
     "output_type": "display_data"
    },
    {
     "name": "stdout",
     "output_type": "stream",
     "text": [
      "Evaluating model on 250 random 50 way one-shot learning tasks ... \n",
      "\n",
      "Got an average of 96.0% 50 way one-shot learning accuracy \n",
      "\n",
      "Evaluating model on 250 random 50 way one-shot learning tasks ... \n",
      "\n",
      "Got an average of 98.4% 50 way one-shot learning accuracy \n",
      "\n",
      "Evaluating model on 250 random 50 way one-shot learning tasks ... \n",
      "\n",
      "Got an average of 99.2% 50 way one-shot learning accuracy \n",
      "\n",
      "Evaluating model on 250 random 50 way one-shot learning tasks ... \n",
      "\n",
      "Got an average of 97.2% 50 way one-shot learning accuracy \n",
      "\n",
      "Evaluating model on 250 random 50 way one-shot learning tasks ... \n",
      "\n",
      "Got an average of 98.4% 50 way one-shot learning accuracy \n",
      "\n",
      "\n",
      "Evaluating model on 250 random 50 way one-shot learning tasks ... \n",
      "\n",
      "Got an average of 98.4% 50 way one-shot learning accuracy \n",
      "\n",
      "Epoch : 003,\n",
      "Training  : Loss: 0.0081\n",
      "Validation: Loss: 0.0095, Accuracy: 98.4%:,\n",
      "\t Time: 145.7767s\n",
      "Epoch: 5/10\n"
     ]
    },
    {
     "data": {
      "application/vnd.jupyter.widget-view+json": {
       "model_id": "04379fcb1bc14f00ac695c5579b02c14",
       "version_major": 2,
       "version_minor": 0
      },
      "text/plain": [
       "HBox(children=(IntProgress(value=1, bar_style='info', max=1), HTML(value='')))"
      ]
     },
     "metadata": {},
     "output_type": "display_data"
    },
    {
     "name": "stdout",
     "output_type": "stream",
     "text": [
      "Evaluating model on 250 random 50 way one-shot learning tasks ... \n",
      "\n",
      "Got an average of 94.0% 50 way one-shot learning accuracy \n",
      "\n",
      "Evaluating model on 250 random 50 way one-shot learning tasks ... \n",
      "\n",
      "Got an average of 97.2% 50 way one-shot learning accuracy \n",
      "\n",
      "Evaluating model on 250 random 50 way one-shot learning tasks ... \n",
      "\n",
      "Got an average of 98.0% 50 way one-shot learning accuracy \n",
      "\n",
      "Evaluating model on 250 random 50 way one-shot learning tasks ... \n",
      "\n",
      "Got an average of 98.0% 50 way one-shot learning accuracy \n",
      "\n",
      "Evaluating model on 250 random 50 way one-shot learning tasks ... \n",
      "\n",
      "Got an average of 99.2% 50 way one-shot learning accuracy \n",
      "\n",
      "\n",
      "Evaluating model on 250 random 50 way one-shot learning tasks ... \n",
      "\n",
      "Got an average of 98.4% 50 way one-shot learning accuracy \n",
      "\n",
      "Epoch : 004,\n",
      "Training  : Loss: 0.0054\n",
      "Validation: Loss: 0.0075, Accuracy: 98.4%:,\n",
      "\t Time: 146.5734s\n",
      "Epoch: 6/10\n"
     ]
    },
    {
     "data": {
      "application/vnd.jupyter.widget-view+json": {
       "model_id": "95a482565ef34439ab4f8a3159d4e03d",
       "version_major": 2,
       "version_minor": 0
      },
      "text/plain": [
       "HBox(children=(IntProgress(value=1, bar_style='info', max=1), HTML(value='')))"
      ]
     },
     "metadata": {},
     "output_type": "display_data"
    },
    {
     "name": "stdout",
     "output_type": "stream",
     "text": [
      "Evaluating model on 250 random 50 way one-shot learning tasks ... \n",
      "\n",
      "Got an average of 97.6% 50 way one-shot learning accuracy \n",
      "\n",
      "Evaluating model on 250 random 50 way one-shot learning tasks ... \n",
      "\n",
      "Got an average of 96.4% 50 way one-shot learning accuracy \n",
      "\n",
      "Evaluating model on 250 random 50 way one-shot learning tasks ... \n",
      "\n",
      "Got an average of 96.0% 50 way one-shot learning accuracy \n",
      "\n",
      "Evaluating model on 250 random 50 way one-shot learning tasks ... \n",
      "\n",
      "Got an average of 96.0% 50 way one-shot learning accuracy \n",
      "\n",
      "Evaluating model on 250 random 50 way one-shot learning tasks ... \n",
      "\n",
      "Got an average of 95.2% 50 way one-shot learning accuracy \n",
      "\n",
      "\n",
      "Evaluating model on 250 random 50 way one-shot learning tasks ... \n",
      "\n",
      "Got an average of 97.2% 50 way one-shot learning accuracy \n",
      "\n",
      "Epoch : 005,\n",
      "Training  : Loss: 0.0126\n",
      "Validation: Loss: 0.0104, Accuracy: 97.2%:,\n",
      "\t Time: 146.7764s\n",
      "Epoch: 7/10\n"
     ]
    },
    {
     "data": {
      "application/vnd.jupyter.widget-view+json": {
       "model_id": "6dd247d7feec47229032ea0b690a182b",
       "version_major": 2,
       "version_minor": 0
      },
      "text/plain": [
       "HBox(children=(IntProgress(value=1, bar_style='info', max=1), HTML(value='')))"
      ]
     },
     "metadata": {},
     "output_type": "display_data"
    },
    {
     "name": "stdout",
     "output_type": "stream",
     "text": [
      "Evaluating model on 250 random 50 way one-shot learning tasks ... \n",
      "\n",
      "Got an average of 98.4% 50 way one-shot learning accuracy \n",
      "\n",
      "Evaluating model on 250 random 50 way one-shot learning tasks ... \n",
      "\n",
      "Got an average of 94.4% 50 way one-shot learning accuracy \n",
      "\n",
      "Evaluating model on 250 random 50 way one-shot learning tasks ... \n",
      "\n",
      "Got an average of 95.2% 50 way one-shot learning accuracy \n",
      "\n",
      "Evaluating model on 250 random 50 way one-shot learning tasks ... \n",
      "\n",
      "Got an average of 97.2% 50 way one-shot learning accuracy \n",
      "\n",
      "Evaluating model on 250 random 50 way one-shot learning tasks ... \n",
      "\n",
      "Got an average of 97.6% 50 way one-shot learning accuracy \n",
      "\n",
      "\n",
      "Evaluating model on 250 random 50 way one-shot learning tasks ... \n",
      "\n",
      "Got an average of 98.8% 50 way one-shot learning accuracy \n",
      "\n",
      "Epoch : 006,\n",
      "Training  : Loss: 0.0086\n",
      "Validation: Loss: 0.0107, Accuracy: 98.8%:,\n",
      "\t Time: 146.5114s\n",
      "Epoch: 8/10\n"
     ]
    },
    {
     "data": {
      "application/vnd.jupyter.widget-view+json": {
       "model_id": "81604e27e4b24d61af87fe1cec632a2b",
       "version_major": 2,
       "version_minor": 0
      },
      "text/plain": [
       "HBox(children=(IntProgress(value=1, bar_style='info', max=1), HTML(value='')))"
      ]
     },
     "metadata": {},
     "output_type": "display_data"
    },
    {
     "name": "stdout",
     "output_type": "stream",
     "text": [
      "Evaluating model on 250 random 50 way one-shot learning tasks ... \n",
      "\n",
      "Got an average of 96.8% 50 way one-shot learning accuracy \n",
      "\n",
      "Evaluating model on 250 random 50 way one-shot learning tasks ... \n",
      "\n",
      "Got an average of 98.4% 50 way one-shot learning accuracy \n",
      "\n",
      "Evaluating model on 250 random 50 way one-shot learning tasks ... \n",
      "\n",
      "Got an average of 98.8% 50 way one-shot learning accuracy \n",
      "\n",
      "Evaluating model on 250 random 50 way one-shot learning tasks ... \n",
      "\n",
      "Got an average of 97.2% 50 way one-shot learning accuracy \n",
      "\n",
      "Evaluating model on 250 random 50 way one-shot learning tasks ... \n",
      "\n",
      "Got an average of 97.6% 50 way one-shot learning accuracy \n",
      "\n",
      "\n",
      "Evaluating model on 250 random 50 way one-shot learning tasks ... \n",
      "\n",
      "Got an average of 98.4% 50 way one-shot learning accuracy \n",
      "\n",
      "Epoch : 007,\n",
      "Training  : Loss: 0.0063\n",
      "Validation: Loss: 0.0082, Accuracy: 98.4%:,\n",
      "\t Time: 146.4641s\n",
      "Epoch: 9/10\n"
     ]
    },
    {
     "data": {
      "application/vnd.jupyter.widget-view+json": {
       "model_id": "388d0bdfea674ed68ddf1310ed042f7d",
       "version_major": 2,
       "version_minor": 0
      },
      "text/plain": [
       "HBox(children=(IntProgress(value=1, bar_style='info', max=1), HTML(value='')))"
      ]
     },
     "metadata": {},
     "output_type": "display_data"
    },
    {
     "name": "stdout",
     "output_type": "stream",
     "text": [
      "Evaluating model on 250 random 50 way one-shot learning tasks ... \n",
      "\n",
      "Got an average of 98.0% 50 way one-shot learning accuracy \n",
      "\n",
      "Evaluating model on 250 random 50 way one-shot learning tasks ... \n",
      "\n",
      "Got an average of 98.4% 50 way one-shot learning accuracy \n",
      "\n",
      "Evaluating model on 250 random 50 way one-shot learning tasks ... \n",
      "\n",
      "Got an average of 98.4% 50 way one-shot learning accuracy \n",
      "\n",
      "Evaluating model on 250 random 50 way one-shot learning tasks ... \n",
      "\n",
      "Got an average of 98.4% 50 way one-shot learning accuracy \n",
      "\n",
      "Evaluating model on 250 random 50 way one-shot learning tasks ... \n",
      "\n",
      "Got an average of 98.8% 50 way one-shot learning accuracy \n",
      "\n",
      "\n",
      "Evaluating model on 250 random 50 way one-shot learning tasks ... \n",
      "\n",
      "Got an average of 97.2% 50 way one-shot learning accuracy \n",
      "\n",
      "Epoch : 008,\n",
      "Training  : Loss: 0.0039\n",
      "Validation: Loss: 0.0078, Accuracy: 97.2%:,\n",
      "\t Time: 147.1046s\n",
      "Epoch: 10/10\n"
     ]
    },
    {
     "data": {
      "application/vnd.jupyter.widget-view+json": {
       "model_id": "9c25002a0aa6426f80595e39c106d137",
       "version_major": 2,
       "version_minor": 0
      },
      "text/plain": [
       "HBox(children=(IntProgress(value=1, bar_style='info', max=1), HTML(value='')))"
      ]
     },
     "metadata": {},
     "output_type": "display_data"
    },
    {
     "name": "stdout",
     "output_type": "stream",
     "text": [
      "Evaluating model on 250 random 50 way one-shot learning tasks ... \n",
      "\n",
      "Got an average of 98.0% 50 way one-shot learning accuracy \n",
      "\n",
      "Evaluating model on 250 random 50 way one-shot learning tasks ... \n",
      "\n",
      "Got an average of 98.4% 50 way one-shot learning accuracy \n",
      "\n",
      "Evaluating model on 250 random 50 way one-shot learning tasks ... \n",
      "\n",
      "Got an average of 97.2% 50 way one-shot learning accuracy \n",
      "\n",
      "Evaluating model on 250 random 50 way one-shot learning tasks ... \n",
      "\n",
      "Got an average of 98.8% 50 way one-shot learning accuracy \n",
      "\n",
      "Evaluating model on 250 random 50 way one-shot learning tasks ... \n",
      "\n",
      "Got an average of 98.4% 50 way one-shot learning accuracy \n",
      "\n",
      "\n",
      "Evaluating model on 250 random 50 way one-shot learning tasks ... \n",
      "\n",
      "Got an average of 99.2% 50 way one-shot learning accuracy \n",
      "\n",
      "Epoch : 009,\n",
      "Training  : Loss: 0.0024\n",
      "Validation: Loss: 0.0062, Accuracy: 99.2%:,\n",
      "\t Time: 147.3076s\n",
      "\n"
     ]
    }
   ],
   "source": [
    "for epoch in tqdm(range(EPOCHS)):\n",
    "    epoch_start = time.time()\n",
    "    print(\"Epoch: {}/{}\".format(epoch + 1, EPOCHS))\n",
    "\n",
    "    # Set to training mode\n",
    "    model.train()\n",
    "\n",
    "    # Loss and Accuracy within the epoch\n",
    "    train_loss = 0.0\n",
    "    train_acc = 0.0\n",
    "\n",
    "    valid_loss = 0.0\n",
    "    valid_acc = 0.0\n",
    "\n",
    "    for i, inputs in tqdm(enumerate(train_data)):\n",
    "\n",
    "        if i % 400 == 1:\n",
    "            eval_f(model)\n",
    "            model.train()\n",
    "        img0, img1, label, *_ = inputs\n",
    "        img0, img1, label = img0.to(device), img1.to(device), label.to(device)\n",
    "        if out_mode == \"cross_entropy\":\n",
    "            label = label.type(torch.LongTensor).to(device)\n",
    "        optimizer.zero_grad()\n",
    "        output = model(img0, img1)\n",
    "\n",
    "        if isinstance(output, tuple):\n",
    "            output1 = output[0]\n",
    "            output2 = output[1]\n",
    "            loss = loss_func(output1, output2, label)\n",
    "        else:\n",
    "            loss = loss_func(output, label)\n",
    "        if torch.isnan(loss).any():\n",
    "            raise ValueError(\"loss is nan\")\n",
    "        loss.backward()\n",
    "        optimizer.step()\n",
    "        train_loss += loss.item() * img0.size(0)\n",
    "\n",
    "    scheduler.step()\n",
    "    with torch.no_grad():\n",
    "\n",
    "        # Set to evaluation mode\n",
    "        model.eval()\n",
    "\n",
    "        # Validation loop\n",
    "        for j, inputs in enumerate(valid_data):\n",
    "            img0, img1, label, *_ = inputs\n",
    "            img0, img1, label = img0.to(device), img1.to(device), label.to(device)\n",
    "            if out_mode == \"cross_entropy\":\n",
    "                label = label.type(torch.LongTensor).to(device)\n",
    "            output = model(img0, img1)\n",
    "\n",
    "            if isinstance(output, tuple):\n",
    "                output1 = output[0]\n",
    "                output2 = output[1]\n",
    "                loss = loss_func(output1, output2, label)\n",
    "            else:\n",
    "                loss = loss_func(output, label)\n",
    "\n",
    "            # Compute the total loss for the batch and add it to valid_loss\n",
    "            valid_loss += loss.item() * img0.size(0)\n",
    "\n",
    "        # Find average training loss and training accuracy\n",
    "        avg_train_loss = train_loss / train_data_size\n",
    "\n",
    "        # Find average training loss and training accuracy\n",
    "        avg_valid_loss = valid_loss / valid_data_size\n",
    "\n",
    "        avg_valid_acc = eval_f(model)\n",
    "\n",
    "        history.append([avg_train_loss, avg_valid_loss, avg_valid_acc])\n",
    "\n",
    "        epoch_end = time.time()\n",
    "\n",
    "        print(\"Epoch : {:03d},\\nTraining  : Loss: {:.4f}\".format(epoch, avg_train_loss))\n",
    "        print(\n",
    "            \"Validation: Loss: {:.4f}, Accuracy: {:.1f}%:,\\n\\t Time: {:.4f}s\".format(\n",
    "                avg_valid_loss, avg_valid_acc, epoch_end - epoch_start\n",
    "            )\n",
    "        )"
   ]
  },
  {
   "cell_type": "markdown",
   "metadata": {},
   "source": [
    "## Plot losses"
   ]
  },
  {
   "cell_type": "code",
   "execution_count": 34,
   "metadata": {},
   "outputs": [],
   "source": [
    "def acc_plot(acc):\n",
    "    plt.figure(figsize=(10, 5))\n",
    "    plt.plot(acc)\n",
    "    plt.title(\"oneshot acc plot\")\n",
    "    plt.xlabel(\"epochs\")\n",
    "    plt.ylabel(\"accuracy\")\n",
    "    plt.show()"
   ]
  },
  {
   "cell_type": "code",
   "execution_count": 35,
   "metadata": {},
   "outputs": [
    {
     "name": "stdout",
     "output_type": "stream",
     "text": [
      "train ranger\n"
     ]
    },
    {
     "data": {
      "image/png": "[encoded data removed]",
      "text/plain": [
       "<Figure size 720x360 with 1 Axes>"
      ]
     },
     "metadata": {
      "needs_background": "light"
     },
     "output_type": "display_data"
    }
   ],
   "source": [
    "print(\"train ranger\")\n",
    "error_plot(np.array([x[0] for x in history]).clip(0, 10))"
   ]
  },
  {
   "cell_type": "code",
   "execution_count": 36,
   "metadata": {},
   "outputs": [
    {
     "name": "stdout",
     "output_type": "stream",
     "text": [
      "validation ranger\n"
     ]
    },
    {
     "data": {
      "image/png": "[encoded data removed]",
      "text/plain": [
       "<Figure size 720x360 with 1 Axes>"
      ]
     },
     "metadata": {
      "needs_background": "light"
     },
     "output_type": "display_data"
    },
    {
     "data": {
      "image/png": "[encoded data removed]",
      "text/plain": [
       "<Figure size 720x360 with 1 Axes>"
      ]
     },
     "metadata": {
      "needs_background": "light"
     },
     "output_type": "display_data"
    }
   ],
   "source": [
    "print(\"validation ranger\")\n",
    "error_plot(np.array([x[1] for x in history]).clip(0, 10))\n",
    "acc_plot([round(x[2], 3) for x in history])"
   ]
  },
  {
   "cell_type": "markdown",
   "metadata": {},
   "source": [
    "## To assess the accuracy of the model, run one-short task on 100 images 2000 times"
   ]
  },
  {
   "cell_type": "code",
   "execution_count": 37,
   "metadata": {},
   "outputs": [
    {
     "name": "stdout",
     "output_type": "stream",
     "text": [
      "Evaluating model on 2000 random 100 way one-shot learning tasks ... \n",
      "\n",
      "Got an average of 98.5% 100 way one-shot learning accuracy \n",
      "\n",
      "Wall time: 1min 30s\n"
     ]
    }
   ],
   "source": [
    "%%time\n",
    "acc = test_oneshot_func(model, 100, 2000, valid_data, device, verbose=True)"
   ]
  },
  {
   "cell_type": "markdown",
   "metadata": {},
   "source": [
    "## Plot 10 random pairs"
   ]
  },
  {
   "cell_type": "code",
   "execution_count": 38,
   "metadata": {
    "scrolled": false
   },
   "outputs": [
    {
     "data": {
      "image/png": "[encoded data removed]",
      "text/plain": [
       "<Figure size 432x288 with 1 Axes>"
      ]
     },
     "metadata": {
      "needs_background": "light"
     },
     "output_type": "display_data"
    },
    {
     "data": {
      "image/png": "[encoded data removed]",
      "text/plain": [
       "<Figure size 432x288 with 1 Axes>"
      ]
     },
     "metadata": {
      "needs_background": "light"
     },
     "output_type": "display_data"
    },
    {
     "data": {
      "image/png": "[encoded data removed]",
      "text/plain": [
       "<Figure size 432x288 with 1 Axes>"
      ]
     },
     "metadata": {
      "needs_background": "light"
     },
     "output_type": "display_data"
    },
    {
     "data": {
      "image/png": "[encoded data removed]",
      "text/plain": [
       "<Figure size 432x288 with 1 Axes>"
      ]
     },
     "metadata": {
      "needs_background": "light"
     },
     "output_type": "display_data"
    },
    {
     "data": {
      "image/png": "[encoded data removed]",
      "text/plain": [
       "<Figure size 432x288 with 1 Axes>"
      ]
     },
     "metadata": {
      "needs_background": "light"
     },
     "output_type": "display_data"
    },
    {
     "data": {
      "image/png": "[encoded data removed]",
      "text/plain": [
       "<Figure size 432x288 with 1 Axes>"
      ]
     },
     "metadata": {
      "needs_background": "light"
     },
     "output_type": "display_data"
    },
    {
     "data": {
      "image/png": "[encoded data removed]",
      "text/plain": [
       "<Figure size 432x288 with 1 Axes>"
      ]
     },
     "metadata": {
      "needs_background": "light"
     },
     "output_type": "display_data"
    },
    {
     "data": {
      "image/png": "[encoded data removed]",
      "text/plain": [
       "<Figure size 432x288 with 1 Axes>"
      ]
     },
     "metadata": {
      "needs_background": "light"
     },
     "output_type": "display_data"
    },
    {
     "data": {
      "image/png": "[encoded data removed]",
      "text/plain": [
       "<Figure size 432x288 with 1 Axes>"
      ]
     },
     "metadata": {
      "needs_background": "light"
     },
     "output_type": "display_data"
    },
    {
     "data": {
      "image/png": "[encoded data removed]",
      "text/plain": [
       "<Figure size 432x288 with 1 Axes>"
      ]
     },
     "metadata": {
      "needs_background": "light"
     },
     "output_type": "display_data"
    }
   ],
   "source": [
    "test_dataloader = DataLoader(data[\"valid\"], batch_size=1, shuffle=True)\n",
    "model.eval()\n",
    "counter = 0\n",
    "list_0 = torch.FloatTensor([[0]])\n",
    "list_1 = torch.FloatTensor([[1]])\n",
    "for i, batch in enumerate(test_dataloader, 0):\n",
    "    x0, x1, label, name0, name1 = batch\n",
    "    concatenated = torch.cat((x0, x1), 3)\n",
    "    if label == list_0:\n",
    "        label = \"opposite\"\n",
    "    else:\n",
    "        label = \"same\"\n",
    "\n",
    "    if out_mode == \"prob_single_neuron\":\n",
    "        prop_of_same = model(x0.to(device), x1.to(device))\n",
    "        title = \"prop_of_same: {:.4f} True label: {}\\n {}, {}\".format(\n",
    "            prop_of_same.item(), label, valid_encoder[name0[0]], valid_encoder[name1[0]]\n",
    "        )\n",
    "    if out_mode == \"L2\":\n",
    "        output1, output2 = model(x0.to(device), x1.to(device))\n",
    "        eucledian_distance = F.pairwise_distance(output1, output2)\n",
    "        title = \"eucledian_distance: {:.4f} True label: {}\\n class {}, class {}\".format(\n",
    "            eucledian_distance.item(),\n",
    "            label,\n",
    "            valid_encoder[name0[0]],\n",
    "            valid_encoder[name1[0]],\n",
    "        )\n",
    "\n",
    "    if out_mode == \"cross_entropy\":\n",
    "        output = model(x0.to(device), x1.to(device))\n",
    "        prob = F.softmax(output, dim=1)\n",
    "        prob_of_same = prob[:, 1]\n",
    "        title = \"prop_of_same: {:.4f} True label: {}\\n {}, {}\".format(\n",
    "            prob_of_same.item(), label, valid_encoder[name0[0]], valid_encoder[name1[0]]\n",
    "        )\n",
    "\n",
    "    plt.title(title)\n",
    "    img_tensor_plot(concatenated, inv_normalize=inv_normalize)\n",
    "    counter = counter + 1\n",
    "    if counter == 10:\n",
    "        break"
   ]
  },
  {
   "cell_type": "code",
   "execution_count": null,
   "metadata": {},
   "outputs": [],
   "source": []
  }
 ],
 "metadata": {
  "kernelspec": {
   "display_name": "Python [default]",
   "language": "python",
   "name": "python3"
  },
  "language_info": {
   "codemirror_mode": {
    "name": "ipython",
    "version": 3
   },
   "file_extension": ".py",
   "mimetype": "text/x-python",
   "name": "python",
   "nbconvert_exporter": "python",
   "pygments_lexer": "ipython3",
   "version": "3.7.4"
  }
 },
 "nbformat": 4,
 "nbformat_minor": 2
}
