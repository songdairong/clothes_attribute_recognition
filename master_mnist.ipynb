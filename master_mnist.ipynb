{
 "cells": [
  {
   "cell_type": "code",
   "execution_count": 1,
   "metadata": {},
   "outputs": [],
   "source": [
    "import papermill as pm\n",
    "from os.path import isfile, join\n",
    "\n",
    "import os\n",
    "import datetime\n",
    "import itertools as it"
   ]
  },
  {
   "cell_type": "code",
   "execution_count": 18,
   "metadata": {},
   "outputs": [],
   "source": [
    "def execute_notebooks(params_lst, worker_name):\n",
    "    worker_dir = \"./\"\n",
    "    nb_ext = \".ipynb\"\n",
    "\n",
    "    path_to_worker = worker_dir + worker_name + nb_ext\n",
    "    output_dir = worker_dir + \"executed_nb/\"\n",
    "    # create if no such dir\n",
    "    os.makedirs(output_dir, exist_ok=True)\n",
    "    output_dir += (\n",
    "         worker_name + datetime.datetime.today().strftime(\"_%Y_%m_%d_%H_%M\") + \"/\"\n",
    "    )\n",
    "    print(output_dir)\n",
    "    os.makedirs(output_dir, exist_ok=True)\n",
    "    results = {}\n",
    "    for i, param in enumerate(params_lst):\n",
    "        # param['desc'] += ' tgt_keys: '\n",
    "        # param['desc'] += '_'.join(param['tgt_keys'])\n",
    "        signature = \"nb_№\" + str(i) + \"_\" \n",
    "        \n",
    "        \n",
    "        results[signature] = cur_result = {}\n",
    "        path_to_output = output_dir + signature + nb_ext\n",
    "        try:\n",
    "            res = pm.execute_notebook(path_to_worker, path_to_output, parameters=param)\n",
    "        except Exception as e:\n",
    "            cur_result[\"status\"] = \"Exception\"\n",
    "            cur_result[\"exception_obj\"] = e\n",
    "        else:\n",
    "            cur_result[\"status\"] = \"OK\"\n",
    "            cur_result[\"res\"] = res\n",
    "    return results"
   ]
  },
  {
   "cell_type": "code",
   "execution_count": null,
   "metadata": {},
   "outputs": [],
   "source": [
    "\n"
   ]
  },
  {
   "cell_type": "markdown",
   "metadata": {},
   "source": [
    "## Mnist"
   ]
  },
  {
   "cell_type": "code",
   "execution_count": 45,
   "metadata": {},
   "outputs": [],
   "source": [
    "param_list = [{'key':'exp2'}, {'key':'exp1'}, {'key':'exp3'}, {'key':'exp4'}]"
   ]
  },
  {
   "cell_type": "code",
   "execution_count": null,
   "metadata": {},
   "outputs": [
    {
     "name": "stdout",
     "output_type": "stream",
     "text": [
      "./executed_nb/Siamese_mnist_2019_11_21_16_48/\n"
     ]
    },
    {
     "data": {
      "application/vnd.jupyter.widget-view+json": {
       "model_id": "b03949ce06be483bacc97d70a7d8a2c8",
       "version_major": 2,
       "version_minor": 0
      },
      "text/plain": [
       "HBox(children=(IntProgress(value=0, description='Executing', max=88, style=ProgressStyle(description_width='in…"
      ]
     },
     "metadata": {},
     "output_type": "display_data"
    }
   ],
   "source": [
    "results = execute_notebooks(param_list, \n",
    "                            'Siamese_mnist')"
   ]
  },
  {
   "cell_type": "code",
   "execution_count": null,
   "metadata": {},
   "outputs": [],
   "source": []
  },
  {
   "cell_type": "code",
   "execution_count": 66,
   "metadata": {},
   "outputs": [],
   "source": [
    "failed = [key for key, res in results.items() if res['status'] != 'OK']\n",
    "if len(failed) != 0:\n",
    "    raise Exception('some keys failed:',failed)"
   ]
  },
  {
   "cell_type": "code",
   "execution_count": null,
   "metadata": {},
   "outputs": [],
   "source": []
  }
 ],
 "metadata": {
  "kernelspec": {
   "display_name": "Python 3",
   "language": "python",
   "name": "python3"
  },
  "language_info": {
   "codemirror_mode": {
    "name": "ipython",
    "version": 3
   },
   "file_extension": ".py",
   "mimetype": "text/x-python",
   "name": "python",
   "nbconvert_exporter": "python",
   "pygments_lexer": "ipython3",
   "version": "3.7.3"
  }
 },
 "nbformat": 4,
 "nbformat_minor": 2
}
