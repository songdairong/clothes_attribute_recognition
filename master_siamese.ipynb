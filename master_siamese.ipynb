{
 "cells": [
  {
   "cell_type": "code",
   "execution_count": 11,
   "metadata": {},
   "outputs": [],
   "source": [
    "import papermill as pm\n",
    "from os.path import isfile, join\n",
    "\n",
    "import os\n",
    "import datetime\n",
    "import itertools as it"
   ]
  },
  {
   "cell_type": "code",
   "execution_count": 12,
   "metadata": {},
   "outputs": [],
   "source": [
    "def execute_notebooks(params_lst, worker_name):\n",
    "    worker_dir = \"./\"\n",
    "    nb_ext = \".ipynb\"\n",
    "\n",
    "    path_to_worker = worker_dir + worker_name + nb_ext\n",
    "    output_dir = worker_dir + \"executed_nb/\"\n",
    "    # create if no such dir\n",
    "    os.makedirs(output_dir, exist_ok=True)\n",
    "    output_dir += (\n",
    "         worker_name + datetime.datetime.today().strftime(\"_%Y_%m_%d_%H_%M\") + \"/\"\n",
    "    )\n",
    "    print(output_dir)\n",
    "    os.makedirs(output_dir, exist_ok=True)\n",
    "    results = {}\n",
    "    for i, param in enumerate(params_lst):\n",
    "        signature = \"nb_№\" + str(i) + \"_\" + param['target_attr'] \n",
    "        results[signature] = cur_result = {}\n",
    "        path_to_output = output_dir + signature + nb_ext\n",
    "        try:\n",
    "            res = pm.execute_notebook(path_to_worker, path_to_output, parameters=param)\n",
    "        except Exception as e:\n",
    "            cur_result[\"status\"] = \"Exception\"\n",
    "            cur_result[\"exception_obj\"] = e\n",
    "        else:\n",
    "            cur_result[\"status\"] = \"OK\"\n",
    "            cur_result[\"res\"] = res\n",
    "    return results"
   ]
  },
  {
   "cell_type": "code",
   "execution_count": 13,
   "metadata": {},
   "outputs": [],
   "source": [
    "param_list = [{'target_attr':\"color\"},{'target_attr':\"neck\"}\n",
    "]"
   ]
  },
  {
   "cell_type": "code",
   "execution_count": 14,
   "metadata": {},
   "outputs": [
    {
     "name": "stdout",
     "output_type": "stream",
     "text": [
      "./executed_nb/Siamese_single_2019_11_25_18_02/\n"
     ]
    },
    {
     "data": {
      "application/vnd.jupyter.widget-view+json": {
       "model_id": "1c8fbafdcb9d4f61b4de5c4c795c6900",
       "version_major": 2,
       "version_minor": 0
      },
      "text/plain": [
       "HBox(children=(IntProgress(value=0, description='Executing', max=79, style=ProgressStyle(description_width='in…"
      ]
     },
     "metadata": {},
     "output_type": "display_data"
    },
    {
     "name": "stdout",
     "output_type": "stream",
     "text": [
      "\n"
     ]
    },
    {
     "data": {
      "application/vnd.jupyter.widget-view+json": {
       "model_id": "74899b54d4ad43b0809c82cde398ef0c",
       "version_major": 2,
       "version_minor": 0
      },
      "text/plain": [
       "HBox(children=(IntProgress(value=0, description='Executing', max=79, style=ProgressStyle(description_width='in…"
      ]
     },
     "metadata": {},
     "output_type": "display_data"
    },
    {
     "name": "stdout",
     "output_type": "stream",
     "text": [
      "\n"
     ]
    }
   ],
   "source": [
    "results = execute_notebooks(param_list, \n",
    "                            'Siamese_single')"
   ]
  },
  {
   "cell_type": "code",
   "execution_count": 15,
   "metadata": {},
   "outputs": [],
   "source": [
    "failed = [key for key, res in results.items() if res['status'] != 'OK']\n",
    "if len(failed) != 0:\n",
    "    raise Exception('some keys failed:',failed)"
   ]
  },
  {
   "cell_type": "code",
   "execution_count": null,
   "metadata": {},
   "outputs": [],
   "source": []
  }
 ],
 "metadata": {
  "kernelspec": {
   "display_name": "Python 3",
   "language": "python",
   "name": "python3"
  },
  "language_info": {
   "codemirror_mode": {
    "name": "ipython",
    "version": 3
   },
   "file_extension": ".py",
   "mimetype": "text/x-python",
   "name": "python",
   "nbconvert_exporter": "python",
   "pygments_lexer": "ipython3",
   "version": "3.7.3"
  }
 },
 "nbformat": 4,
 "nbformat_minor": 2
}
